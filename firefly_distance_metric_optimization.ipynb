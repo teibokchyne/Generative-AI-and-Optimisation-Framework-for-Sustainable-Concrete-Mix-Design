{
 "cells": [
  {
   "cell_type": "markdown",
   "metadata": {},
   "source": [
    "# Goal\n",
    "- To compare distance metrics suitable for the firefly optimization"
   ]
  },
  {
   "cell_type": "markdown",
   "metadata": {},
   "source": [
    "# Table of Contents\n",
    "- [Imports](#imports)\n",
    "- [Preprocessing](#preprocessing)\n",
    "- [Split data](#split-data)\n",
    "- [Basic CatBoost Model](#basic-catboost-model)\n",
    "- [Firefly Algorithm Definition](#firefly-algorithm-definition)\n",
    "- [Distance Metric Selection Obtained](#best-model-hyperparameters-obtained)\n"
   ]
  },
  {
   "cell_type": "markdown",
   "metadata": {},
   "source": [
    "# Imports"
   ]
  },
  {
   "cell_type": "code",
   "execution_count": 7,
   "metadata": {},
   "outputs": [],
   "source": [
    "# Data Handling\n",
    "import pandas as pd\n",
    "import numpy as np\n",
    "import os\n",
    "\n",
    "# Machine Learning & Optimization\n",
    "from catboost import CatBoostRegressor\n",
    "from sklearn.model_selection import train_test_split, KFold\n",
    "from sklearn.metrics import mean_squared_error, mean_absolute_error, r2_score\n",
    "\n",
    "# Visualization\n",
    "import matplotlib.pyplot as plt\n",
    "import seaborn as sns\n",
    "\n",
    "# Utility\n",
    "import math\n"
   ]
  },
  {
   "cell_type": "code",
   "execution_count": 3,
   "metadata": {},
   "outputs": [],
   "source": [
    "def score(actual_values, predicted_values):\n",
    "    mae_score = mean_absolute_error(actual_values, predicted_values)\n",
    "    R2_score = r2_score(actual_values,predicted_values)\n",
    "    RMSE = math.sqrt(mean_squared_error(actual_values,predicted_values))\n",
    "    return {\"MAE\":mae_score, \"R2_score\":R2_score, \"RMSE\":RMSE}\n",
    "\n"
   ]
  },
  {
   "cell_type": "markdown",
   "metadata": {},
   "source": [
    "# Preprocessing"
   ]
  },
  {
   "cell_type": "code",
   "execution_count": 2,
   "metadata": {},
   "outputs": [
    {
     "name": "stdout",
     "output_type": "stream",
     "text": [
      "<class 'pandas.core.frame.DataFrame'>\n",
      "RangeIndex: 785 entries, 0 to 784\n",
      "Data columns (total 16 columns):\n",
      " #   Column          Non-Null Count  Dtype  \n",
      "---  ------          --------------  -----  \n",
      " 0   Cement (kg/m3)  785 non-null    float64\n",
      " 1   SF (kg/m3)      785 non-null    float64\n",
      " 2   BFS (kg/m3)     785 non-null    float64\n",
      " 3   FA (kg/m3)      785 non-null    float64\n",
      " 4   QP (kg/m3)      785 non-null    float64\n",
      " 5   LSP (kg/m3)     785 non-null    float64\n",
      " 6   NS (kg/m3)      785 non-null    float64\n",
      " 7   Fiber (kg/m3)   785 non-null    float64\n",
      " 8   Sand (kg/m3)    785 non-null    float64\n",
      " 9   Gravel (kg/m3)  785 non-null    int64  \n",
      " 10  Water (kg/m3)   785 non-null    float64\n",
      " 11  SP (kg/m3)      785 non-null    float64\n",
      " 12  T (oC)          785 non-null    int64  \n",
      " 13  RH (%)          785 non-null    int64  \n",
      " 14  Age (days)      785 non-null    int64  \n",
      " 15  fc (MPa)        785 non-null    float64\n",
      "dtypes: float64(12), int64(4)\n",
      "memory usage: 98.3 KB\n",
      "None\n"
     ]
    }
   ],
   "source": [
    "# Step 2: Load dataset\n",
    "data_filepath = r\"Wiley.csv\"\n",
    "\n",
    "data = pd.read_csv(data_filepath)\n",
    "# remove\n",
    "data = data.drop(['Index','Unnamed: 16'], axis=1)\n",
    "print(data.info())\n",
    "\n"
   ]
  },
  {
   "cell_type": "markdown",
   "metadata": {},
   "source": [
    "### Split data"
   ]
  },
  {
   "cell_type": "code",
   "execution_count": 4,
   "metadata": {},
   "outputs": [],
   "source": [
    "X = data.drop('fc (MPa)', axis=1)  # Replace 'fc (MPa)' with your target column name\n",
    "y = data['fc (MPa)']\n",
    "\n",
    "X_train, X_valid, y_train, y_valid = train_test_split(X, y, test_size=0.2, random_state=42)"
   ]
  },
  {
   "cell_type": "markdown",
   "metadata": {},
   "source": [
    "# Basic Catboost model"
   ]
  },
  {
   "cell_type": "code",
   "execution_count": 5,
   "metadata": {},
   "outputs": [
    {
     "name": "stdout",
     "output_type": "stream",
     "text": [
      "{'MAE': 4.842734419072415, 'R2_score': 0.9737849671809723, 'RMSE': 6.407226590840827}\n"
     ]
    }
   ],
   "source": [
    "basic_model = CatBoostRegressor(verbose=0)\n",
    "basic_model.fit(X_train,y_train)\n",
    "\n",
    "basic_model_predictions = basic_model.predict(X_valid)\n",
    "print(score(y_valid, basic_model_predictions))"
   ]
  },
  {
   "cell_type": "code",
   "execution_count": 6,
   "metadata": {},
   "outputs": [
    {
     "name": "stdout",
     "output_type": "stream",
     "text": [
      "{'MAE': 2.738650005987045, 'R2_score': 0.9899561251353487, 'RMSE': 4.031897368641099}\n"
     ]
    }
   ],
   "source": [
    "basic_model_predictions_train = basic_model.predict(X_train)\n",
    "print(score(y_train, basic_model_predictions_train))"
   ]
  },
  {
   "cell_type": "markdown",
   "metadata": {},
   "source": [
    "# Firefly algorithm definition\n",
    "\n",
    "- Five distance metrics are used for comparison\n",
    "    - Euclidean Distance \n",
    "    - Manhattan Distance (L1 norm)\n",
    "    - Minkowski Distance (generalized)\n",
    "    - Cosine Distance\n",
    "    - Chebyshev Distance"
   ]
  },
  {
   "cell_type": "code",
   "execution_count": 13,
   "metadata": {},
   "outputs": [],
   "source": [
    "def initialize_fireflies(population_size, dimension):\n",
    "  fireflies = np.zeros((population_size, dimension))\n",
    "  for i in range(population_size):\n",
    "    for j in range(dimension):\n",
    "      fireflies[i][j] = np.random.uniform(param_bounds[j][0],param_bounds[j][1])\n",
    "      # make sure that depth, border_count and iterations are integers\n",
    "      if j == 1 or j==5 or j==6:\n",
    "        fireflies[i][j] = round(fireflies[i][j])\n",
    "  return fireflies\n",
    "\n",
    "def objective_function(solution,to_return=1):\n",
    "\n",
    "    learning_rate = solution[0]\n",
    "    if learning_rate < 0.01: \n",
    "        learning_rate = 0.01\n",
    "    elif learning_rate > 0.05:\n",
    "        learning_rate = 0.05\n",
    "\n",
    "    depth = int(solution[1])\n",
    "    if depth < 4: \n",
    "        depth = 4\n",
    "    elif depth > 10:\n",
    "        depth = 10\n",
    "\n",
    "    l2_leaf_reg = solution[2]\n",
    "    if l2_leaf_reg < 0.01: \n",
    "        l2_leaf_reg = 0.01\n",
    "    elif l2_leaf_reg > 100:\n",
    "        l2_leaf_reg = 100\n",
    "\n",
    "    bagging_temperature = solution[3]\n",
    "    if bagging_temperature < 0: \n",
    "        bagging_temperature = 0\n",
    "    elif bagging_temperature > 10:\n",
    "        bagging_temperature = 10\n",
    "\n",
    "    subsample = solution[4]\n",
    "    if subsample < 0.5: \n",
    "        subsample = 0.5\n",
    "    elif subsample > 0.8:\n",
    "        subsample = 0.8\n",
    "\n",
    "    border_count = int(solution[5])\n",
    "    if border_count < 1:\n",
    "        border_count = 1\n",
    "    elif border_count > 255:\n",
    "        border_count = 255\n",
    "\n",
    "    iterations = int(solution[6])\n",
    "    if iterations < 100:\n",
    "        iterations = 100\n",
    "    elif iterations > 1500:\n",
    "        iterations = 1500\n",
    "    \n",
    "    model = CatBoostRegressor(\n",
    "        learning_rate=learning_rate,\n",
    "        depth=depth,\n",
    "        l2_leaf_reg=l2_leaf_reg,\n",
    "        subsample=subsample,\n",
    "        border_count=border_count,\n",
    "        iterations=iterations,\n",
    "        verbose=0\n",
    "    )\n",
    "\n",
    "    # Fit the model on the training data with early stopping based on validation data\n",
    "    model.fit(X_train,y_train)\n",
    "\n",
    "    # Make predictions on the validation data\n",
    "    y_pred = model.predict(X_valid)\n",
    "\n",
    "    if to_return==1:\n",
    "    # Calculate and print the performance using mean squared error (MSE)\n",
    "        MSE = mean_squared_error(y_valid,y_pred)\n",
    "        return MSE\n",
    "    else:\n",
    "        return score(y_valid,y_pred)\n",
    "\n",
    "def calculate_intensity(population, objective_func):\n",
    "    return np.array([objective_func(ind) for ind in population])\n",
    "\n",
    "def calculate_distance_euclidean(firefly_i, firefly_j):\n",
    "    # Standard scale each dimension\n",
    "    firefly_i_scaled = (firefly_i - means) / stds\n",
    "    firefly_j_scaled = (firefly_j - means) / stds\n",
    "\n",
    "    # Calculate Euclidean distance after standard scaling\n",
    "    distance = np.linalg.norm(firefly_i_scaled - firefly_j_scaled)\n",
    "    return distance\n",
    "\n",
    "def calculate_distance_manhattan(firefly_i, firefly_j):\n",
    "    firefly_i_scaled = (firefly_i - means) / stds\n",
    "    firefly_j_scaled = (firefly_j - means) / stds\n",
    "    distance = np.sum(np.abs(firefly_i_scaled - firefly_j_scaled))\n",
    "    return distance\n",
    "\n",
    "def calculate_distance_cosine(firefly_i, firefly_j):\n",
    "    firefly_i_scaled = (firefly_i - means) / stds\n",
    "    firefly_j_scaled = (firefly_j - means) / stds\n",
    "    dot_product = np.dot(firefly_i_scaled, firefly_j_scaled)\n",
    "    norm_i = np.linalg.norm(firefly_i_scaled)\n",
    "    norm_j = np.linalg.norm(firefly_j_scaled)\n",
    "    cosine_similarity = dot_product / (norm_i * norm_j + 1e-8)\n",
    "    distance = 1 - cosine_similarity\n",
    "    return distance\n",
    "\n",
    "def calculate_distance_chebyshev(firefly_i, firefly_j):\n",
    "    firefly_i_scaled = (firefly_i - means) / stds\n",
    "    firefly_j_scaled = (firefly_j - means) / stds\n",
    "    distance = np.max(np.abs(firefly_i_scaled - firefly_j_scaled))\n",
    "    return distance\n",
    "\n",
    "def calculate_distance_canberra(firefly_i, firefly_j):\n",
    "    firefly_i_scaled = (firefly_i - means) / stds\n",
    "    firefly_j_scaled = (firefly_j - means) / stds\n",
    "    numerator = np.abs(firefly_i_scaled - firefly_j_scaled)\n",
    "    denominator = np.abs(firefly_i_scaled) + np.abs(firefly_j_scaled) + 1e-8\n",
    "    distance = np.sum(numerator / denominator)\n",
    "    return distance\n",
    "\n",
    "\n",
    "def calculate_attractiveness(distance_ij, beta_0, gamma):\n",
    "    return beta_0 * np.exp(-gamma * distance_ij**2)\n",
    "\n",
    "def save_population_and_intensity_to_csv(population, intensity, iteration,distance_function):\n",
    "    # Create a DataFrame from the population and intensity\n",
    "    df = pd.DataFrame(population, columns=[f'Param_{i+1}' for i in range(population.shape[1])])\n",
    "    df.insert(0, 'Intensity', intensity)\n",
    "    df.to_csv(f'output2/fireflies_population_intensity_iteration_{distance_function}_{iteration}.csv', index=False)\n",
    "\n",
    "def move_fireflies(population, intensity, max_iter, alpha, beta_0, gamma,distance_function):\n",
    "    population_size, dimension = population.shape\n",
    "\n",
    "    for iter_num in range(max_iter):\n",
    "        for i in range(population_size):\n",
    "            for j in range(population_size):\n",
    "                if intensity[i] > intensity[j]:\n",
    "                    distance_ij = distance_function(population[i], population[j])\n",
    "                    attractiveness_ij = calculate_attractiveness(distance_ij, beta_0, gamma)\n",
    "                    population[i] += attractiveness_ij * (population[j] - population[i]) + \\\n",
    "                                     alpha * (np.random.rand(dimension) - 0.5)\n",
    "        \n",
    "        intensity = calculate_intensity(population, objective_function)\n",
    "        save_population_and_intensity_to_csv(population, intensity, iter_num,distance_function.__name__)\n",
    "        \n",
    "    best_solution = population[np.argmin(intensity)]\n",
    "    return best_solution\n"
   ]
  },
  {
   "cell_type": "code",
   "execution_count": 14,
   "metadata": {},
   "outputs": [],
   "source": [
    "# param_bounds = {\n",
    "#       'learning_rate': [0.01, 0.05],  # Using the refined range for learning rate\n",
    "#       'depth': [4,10],  # Refined range for tree depth\n",
    "#       'l2_leaf_reg': [0.01, 100],  # L2 regularization range\n",
    "#       'bagging_temperature': [0, 10],  # Bagging temperature range\n",
    "#       'subsample': [0.5, 0.8],  # Subsample range\n",
    "#       'border_count': [1, 255],  # Feature binning precision range\n",
    "#       'iterations': [100, 1500]  # Number of iterations for training\n",
    "#   }\n",
    "# the ranges are modified a bit to adjust for the rounding later on\n",
    "# e.g depth is 0.6 to 16.4 in order to adjust for rounding\n",
    "param_bounds = [ [0.01, 0.05], [4, 10], [0.01, 100], [0, 10], [0.5, 0.8], [0.7, 255.3], [100, 1500.9]]\n",
    "\n",
    "population_size = 10\n",
    "dimension = 7\n",
    "max_iter = 30\n",
    "alpha = 0.1\n",
    "beta_0 = 1.0\n",
    "gamma = 1.0\n",
    "\n",
    "means = np.array([(bounds[0] + bounds[1]) / 2 for bounds in param_bounds])\n",
    "stds = np.array([(bounds[1] - bounds[0]) / 4 for bounds in param_bounds])  # Dividing by 4 assumes a reasonable spread\n"
   ]
  },
  {
   "cell_type": "code",
   "execution_count": 17,
   "metadata": {},
   "outputs": [
    {
     "name": "stdout",
     "output_type": "stream",
     "text": [
      "Best Solution: calculate_distance_euclidean [6.00706515e-02 8.99413794e+00 2.09190268e+01 9.12879361e+00\n",
      " 6.74832053e-01 2.29010432e+02 1.19799900e+03]\n",
      "Objective Value: 42.40286739307526\n",
      "Best Solution: calculate_distance_manhattan [7.17355195e-02 8.97473383e+00 2.09079947e+01 9.20116962e+00\n",
      " 6.81926411e-01 2.29012307e+02 1.19795396e+03]\n",
      "Objective Value: 43.874030173455694\n",
      "Best Solution: calculate_distance_cosine [1.24882429e-01 7.71214000e+00 6.44533968e+00 7.78916401e+00\n",
      " 3.57211685e-02 1.18030578e+02 5.60154359e+02]\n",
      "Objective Value: 43.013890520915446\n",
      "Best Solution: calculate_distance_chebyshev [1.03726445e-01 8.01279208e+00 6.52226278e+00 7.54970223e+00\n",
      " 1.18927522e-01 1.18124517e+02 5.59726763e+02]\n",
      "Objective Value: 42.95963948917333\n",
      "Best Solution: calculate_distance_canberra [ 9.45174406e-02  7.78861894e+00  6.44577604e+00  7.87597603e+00\n",
      " -2.73300171e-01  1.17895314e+02  5.60229976e+02]\n",
      "Objective Value: 43.04540434956417\n"
     ]
    }
   ],
   "source": [
    "fireflies = initialize_fireflies(population_size, dimension)\n",
    "\n",
    "intensity = calculate_intensity(fireflies, objective_function)\n",
    "\n",
    "\n",
    "distance_functions = [calculate_distance_euclidean,calculate_distance_manhattan,calculate_distance_cosine,calculate_distance_chebyshev,calculate_distance_canberra]\n",
    "for distance_function in distance_functions:\n",
    "    best_solution = move_fireflies(fireflies, intensity, max_iter, alpha, beta_0, gamma,distance_function)\n",
    "\n",
    "    print(f\"Best Solution: {distance_function.__name__}\", best_solution)\n",
    "    print(\"Objective Value:\", objective_function(best_solution))"
   ]
  },
  {
   "cell_type": "markdown",
   "metadata": {},
   "source": [
    "# Distance Metric Selection\n",
    "\n",
    "- sort solutions for each distance metric\n",
    "- select best from each distance metric\n",
    "- compare\n",
    "- Result\n",
    "    - Euclidean distance is chosen based on comparison of three metrics as it tops in R2 and RMSE"
   ]
  },
  {
   "cell_type": "code",
   "execution_count": 17,
   "metadata": {},
   "outputs": [
    {
     "name": "stdout",
     "output_type": "stream",
     "text": [
      "Solutions for manhattan:\n",
      "\n",
      "solution: [0.0717355195207518, 8.974733834315613, 20.907994688106324, 9.201169615336676, 0.6819264111815221, 229.0123068221245, 1197.953960655442]\n",
      "{'MAE': 4.8924301078234995, 'R2_score': 0.9719832490688581, 'RMSE': 6.623747441853116}\n",
      "\n",
      "Solutions for chebyshev:\n",
      "\n",
      "solution: [0.1037264449085622, 8.012792077043219, 6.522262782635443, 7.549702232940268, 0.1189275220528532, 118.12451699547547, 559.7267630901813]\n",
      "{'MAE': 4.909590281483083, 'R2_score': 0.9725671538515738, 'RMSE': 6.554360341724685}\n",
      "\n",
      "Solutions for canberra:\n",
      "\n",
      "solution: [0.094517440641604, 7.788618939381601, 6.445776040754938, 7.87597603496103, -0.2733001707195872, 117.89531392511672, 560.2299758141733]\n",
      "{'MAE': 4.851880051563085, 'R2_score': 0.9725123867667468, 'RMSE': 6.5608996600743845}\n",
      "\n",
      "Solutions for euclidean:\n",
      "\n",
      "solution: [0.0600706514619212, 8.994137940297726, 20.91902678932367, 9.128793605952286, 0.6748320532853389, 229.0104322400013, 1197.9990025378909]\n",
      "{'MAE': 4.889092636468801, 'R2_score': 0.972922693223729, 'RMSE': 6.511748412913022}\n",
      "\n",
      "Solutions for cosine:\n",
      "\n",
      "solution: [0.1248824294737593, 7.712139997757615, 6.445339678609813, 7.789164006451875, 0.0357211685274937, 118.03057791278184, 560.1543588437495]\n",
      "{'MAE': 4.850465321808744, 'R2_score': 0.9725325106323832, 'RMSE': 6.558497581071098}\n",
      "\n"
     ]
    }
   ],
   "source": [
    "# Specify the folder path\n",
    "folder_path = 'output2'\n",
    "\n",
    "# List all files in the folder\n",
    "files = os.listdir(folder_path)\n",
    "distance_metrics = {'manhattan': [], 'chebyshev': [], 'canberra': [], 'euclidean': [], 'cosine': []}\n",
    "\n",
    "# Iterate through each file\n",
    "for file_name in files:\n",
    "    file_path = os.path.join(folder_path, file_name)\n",
    "\n",
    "\n",
    "    # Open and read the file (assuming text files)\n",
    "    with open(file_path, 'r', encoding='utf-8') as file:\n",
    "        df_file = pd.read_csv(file_path)\n",
    "        df_sorted = df_file.sort_values(by='Intensity')\n",
    "        distance_metric = file_name.split(\"_\")[6]\n",
    "        distance_metrics[distance_metric].append(df_sorted.head(10).copy())\n",
    "\n",
    "for distance_metric in distance_metrics:\n",
    "    df_result = pd.concat(distance_metrics[distance_metric], ignore_index=True)\n",
    "    df_result = df_result.sort_values(by='Intensity')\n",
    "    df_10 = df_result.head(1)\n",
    "    print(f\"Solutions for {distance_metric}:\\n\")\n",
    "    for i in range(len(df_10)):\n",
    "        solution = list(df_10.iloc[i,1:])\n",
    "        print(f\"solution: {solution}\")\n",
    "        print(objective_function(solution,2))\n",
    "        print()\n",
    "\n",
    "\n",
    "# fireflies_population_intensity_iteration_calculate_distance_manhattan_29"
   ]
  }
 ],
 "metadata": {
  "kernelspec": {
   "display_name": "Python 3",
   "language": "python",
   "name": "python3"
  },
  "language_info": {
   "codemirror_mode": {
    "name": "ipython",
    "version": 3
   },
   "file_extension": ".py",
   "mimetype": "text/x-python",
   "name": "python",
   "nbconvert_exporter": "python",
   "pygments_lexer": "ipython3",
   "version": "3.12.4"
  }
 },
 "nbformat": 4,
 "nbformat_minor": 2
}
