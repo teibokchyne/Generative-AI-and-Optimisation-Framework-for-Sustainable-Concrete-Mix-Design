{
 "cells": [
  {
   "cell_type": "markdown",
   "metadata": {},
   "source": [
    "# Compare train and test loss for all the neural networks"
   ]
  },
  {
   "cell_type": "code",
   "execution_count": 1,
   "metadata": {},
   "outputs": [],
   "source": [
    "import os\n",
    "import pandas as pd\n"
   ]
  },
  {
   "cell_type": "code",
   "execution_count": 2,
   "metadata": {},
   "outputs": [
    {
     "name": "stdout",
     "output_type": "stream",
     "text": [
      "                                        file name  train loss  test loss\n",
      "0                     Encoder: (16) Decoder: (16)    0.096568   0.142106\n",
      "1                     Encoder: (32) Decoder: (32)    0.051849   0.082918\n",
      "2                     Encoder: (64) Decoder: (64)    0.041571   0.065377\n",
      "3                   Encoder: (128) Decoder: (128)    0.039315   0.064780\n",
      "4                   Encoder: (256) Decoder: (256)    0.027361   0.046817\n",
      "5               Encoder: (32,16) Decoder: (16,32)    0.034560   0.074149\n",
      "6             Encoder: (128,64) Decoder: (64,128)    0.036857   0.085323\n",
      "7           Encoder: (256,128) Decoder: (128,256)    0.010312   0.044430\n",
      "8           Encoder: (32,16,8) Decoder: (8,16,32)    0.035585   0.062233\n",
      "9     Encoder: (256,128,64) Decoder: (64,128,256)    0.011154   0.049881\n",
      "10  Encoder: (32,16,8,4,3) Decoder: (3,4,8,16,32)    0.509857   0.513288\n"
     ]
    }
   ],
   "source": [
    "# Folder containing CSV files\n",
    "folder_path = \"output_vae_full_weight\"\n",
    "\n",
    "validation_errors = {\"file name\":[], \"train loss\": [], \"test loss\": []}\n",
    "\n",
    "# List all output files\n",
    "files = [f for f in os.listdir(folder_path) if f.startswith(\"output_file_vae\") and f.endswith(\".csv\")]\n",
    "sorted_files = []\n",
    "for file in files:\n",
    "    temp = file.split(\"batch\")[0].split(\"Encoder\")[1].split(\"_\")\n",
    "    temp = [i for i in temp if i!='']\n",
    "    sorted_files.append((file,temp))\n",
    "\n",
    "sorted_files = sorted(sorted_files, key = lambda x: (len(x[1]),int(x[1][0])))\n",
    "# Loop through all files in the folder\n",
    "for file,encoder_layers in sorted_files:\n",
    "    file_path = os.path.join(folder_path, file)\n",
    "    df = pd.read_csv(file_path)\n",
    "    encoder_design  =\"Encoder: (\" + \",\".join(encoder_layers) +\")\"\n",
    "    decoder_design = \"Decoder: (\" + \",\".join(encoder_layers[::-1])+\")\"\n",
    "    architecture = encoder_design+\" \"+decoder_design\n",
    "    validation_errors[\"file name\"].append(architecture)\n",
    "    validation_errors['train loss'].append(df.iloc[-1,1])\n",
    "    validation_errors['test loss'].append(df.iloc[-1,2])\n",
    "\n",
    "validation_errors_df = pd.DataFrame(validation_errors)\n",
    "print(validation_errors_df)\n"
   ]
  }
 ],
 "metadata": {
  "kernelspec": {
   "display_name": "Python 3",
   "language": "python",
   "name": "python3"
  },
  "language_info": {
   "codemirror_mode": {
    "name": "ipython",
    "version": 3
   },
   "file_extension": ".py",
   "mimetype": "text/x-python",
   "name": "python",
   "nbconvert_exporter": "python",
   "pygments_lexer": "ipython3",
   "version": "3.12.4"
  }
 },
 "nbformat": 4,
 "nbformat_minor": 2
}
